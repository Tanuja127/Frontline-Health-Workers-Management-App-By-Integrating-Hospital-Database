{
 "cells": [
  {
   "cell_type": "code",
   "execution_count": 3,
   "metadata": {},
   "outputs": [],
   "source": [
    "from datetime import datetime\n",
    "from win10toast import ToastNotifier\n",
    "import time\n",
    "while True:\n",
    "    n = ToastNotifier()\n",
    "    now = datetime.now()\n",
    "    current_time = now.strftime(\"%H:%M:%S\")\n",
    "    if current_time == \"08:00:00\":\n",
    "        title = \"message for your wellness\"\n",
    "        desc = \"It's breakfast time! Eat well and have a Good Day :)\"\n",
    "        times = 30\n",
    "        n.show_toast(title,desc,duration=times,icon_path=\"D:\\eyantra\\image.ico\")\n",
    "        time.sleep(14400)\n",
    "\n",
    "    elif current_time == \"12:30:00\":\n",
    "        title = \"message for your wellness\"\n",
    "        desc = \"It's lunch time! Stay healthy :)\"\n",
    "        times = 30\n",
    "        n.show_toast(title, desc, duration=times, icon_path=\"D:\\eyantra\\image.ico\")\n",
    "        time.sleep(14400)\n",
    "\n",
    "    elif current_time == \"16:45:00\":\n",
    "        title = \"message for your wellness\"\n",
    "        desc = \"Have a dose of positivi-TEA ;) , you are doing good!!\"\n",
    "        times = 30\n",
    "        n.show_toast(title, desc, duration=times, icon_path=\"D:\\eyantra\\image.ico\")\n",
    "        time.sleep(12600)\n",
    "\n",
    "    elif current_time == \"20:30:00\":\n",
    "        title = \"message for your wellness\"\n",
    "        desc = \"Take a break and have your dinner :)\"\n",
    "        times = 30\n",
    "        n.show_toast(title, desc, duration=times, icon_path=\"D:\\eyantra\\image.ico\")\n",
    "        time.sleep(2700)\n",
    "\n",
    "    elif current_time == \"21:30:00\":\n",
    "        title = \"message for your wellness\"\n",
    "        desc = \"You go above and beyond to make our patients comfortable. \" \\\n",
    "               \"Thank you from the bottom of our hearts\"\n",
    "        times = 4\n",
    "        n.show_toast(title, desc, duration=times, icon_path=\"D:\\eyantra\\image.ico\")\n",
    "        time.sleep(36000)\n",
    "    time.sleep(1)"
   ]
  },
  {
   "cell_type": "code",
   "execution_count": null,
   "metadata": {},
   "outputs": [],
   "source": []
  }
 ],
 "metadata": {
  "kernelspec": {
   "display_name": "Python 3",
   "language": "python",
   "name": "python3"
  },
  "language_info": {
   "codemirror_mode": {
    "name": "ipython",
    "version": 3
   },
   "file_extension": ".py",
   "mimetype": "text/x-python",
   "name": "python",
   "nbconvert_exporter": "python",
   "pygments_lexer": "ipython3",
   "version": "3.8.5"
  }
 },
 "nbformat": 4,
 "nbformat_minor": 4
}
